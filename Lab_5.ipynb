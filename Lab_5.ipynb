{
  "nbformat": 4,
  "nbformat_minor": 0,
  "metadata": {
    "colab": {
      "name": "SISI_TensorFlow_Lite.ipynb",
      "provenance": [],
      "collapsed_sections": [],
      "toc_visible": true
    },
    "kernelspec": {
      "display_name": "Python 3",
      "language": "python",
      "name": "python3"
    },
    "language_info": {
      "codemirror_mode": {
        "name": "ipython",
        "version": 3
      },
      "file_extension": ".py",
      "mimetype": "text/x-python",
      "name": "python",
      "nbconvert_exporter": "python",
      "pygments_lexer": "ipython3",
      "version": "3.8.5"
    },
    "accelerator": "GPU"
  },
  "cells": [
    {
      "cell_type": "markdown",
      "metadata": {
        "id": "860PFaEBIk3H"
      },
      "source": [
        "# LAB4 - TensorFlow Lite\n",
        "ver: 3"
      ]
    },
    {
      "cell_type": "markdown",
      "metadata": {
        "id": "sSP0m_ZGIi5I"
      },
      "source": [
        "Przedmiot: _Sztuczna Inteligencja w Systemach Informatycznych_\n",
        "\n",
        "Autor: Tomasz Szydło\n",
        "\n",
        "kontakt: tszydlo@agh.edu.pl\n"
      ]
    },
    {
      "cell_type": "markdown",
      "metadata": {
        "id": "pNIkZMJIIceS"
      },
      "source": [
        "## Wprowadzenie\n",
        "\n",
        "Celem zajęć jest analiza działania konwersji sieci neuronowych do postaci możliwej do uruchomienia na urządzeniach o ograniczonych zasobach. W czasie zajęć będzie wykorzystywany zbiór Fashion MNIST, który zawiera 60000 obrazków w 10 kategoriach:\n",
        "\n",
        "https://github.com/zalandoresearch/fashion-mnist\n",
        "\n",
        "\n",
        "https://www.tensorflow.org/datasets/catalog/fashion_mnist\n",
        "\n",
        "\n",
        "### Środowisko pracy - Google Codelab\n",
        "\n",
        "https://codelabs.developers.google.com/?cat=Machine+Learning\n",
        "\n"
      ]
    },
    {
      "cell_type": "code",
      "metadata": {
        "id": "pffqMCSFKRq6"
      },
      "source": [
        "try:\n",
        "  %tensorflow_version 2.x\n",
        "except:\n",
        "  pass"
      ],
      "execution_count": 4,
      "outputs": []
    },
    {
      "cell_type": "code",
      "metadata": {
        "id": "hOEVEJ4eKU85",
        "colab": {
          "base_uri": "https://localhost:8080/"
        },
        "outputId": "e4593906-7f19-4c9d-ab4c-70c835619be9"
      },
      "source": [
        "import tensorflow as tf\n",
        "from tensorflow.keras.datasets import mnist, fashion_mnist\n",
        "from tensorflow.keras.models import Sequential\n",
        "from tensorflow.keras.layers import Dense, Dropout, Activation, Flatten, Conv2D, AveragePooling2D, MaxPooling2D\n",
        "\n",
        "from keras.utils import np_utils\n",
        "\n",
        "import numpy as np\n",
        "import matplotlib.pyplot as plt\n",
        "import pathlib\n",
        "\n",
        "import time\n",
        "\n",
        "print(tf.__version__)"
      ],
      "execution_count": 5,
      "outputs": [
        {
          "output_type": "stream",
          "text": [
            "2.4.1\n"
          ],
          "name": "stdout"
        }
      ]
    },
    {
      "cell_type": "markdown",
      "metadata": {
        "id": "1fCavbBCMtQ9"
      },
      "source": [
        "Przygotuj zbiór testowy. Zbiór fashion_mnist nie posiada słownych opisów klas."
      ]
    },
    {
      "cell_type": "code",
      "metadata": {
        "id": "SDtjTnnKai7G",
        "colab": {
          "base_uri": "https://localhost:8080/"
        },
        "outputId": "a3cb5f9b-cb60-4b0c-fa28-46663d160145"
      },
      "source": [
        "nb_classes = 10\n",
        "class_names = ['T-shirt_top', 'Trouser', 'Pullover', 'Dress', 'Coat',\n",
        "               'Sandal', 'Shirt', 'Sneaker', 'Bag', 'Ankle boot']\n",
        "\n",
        "#(X_train, y_train), (X_test, y_test) = mnist.load_data()\n",
        "(X_train, y_train), (X_test, y_test) = fashion_mnist.load_data()\n",
        "print(\"X_train original shape\", X_train.shape)\n",
        "print(\"y_train original shape\", y_train.shape)"
      ],
      "execution_count": 6,
      "outputs": [
        {
          "output_type": "stream",
          "text": [
            "X_train original shape (60000, 28, 28)\n",
            "y_train original shape (60000,)\n"
          ],
          "name": "stdout"
        }
      ]
    },
    {
      "cell_type": "markdown",
      "metadata": {
        "id": "gJDe17SdCn6R"
      },
      "source": [
        "Wypisz ilość elementów w zbiorze uczącym i testowym.\n",
        "\n",
        "\n",
        "\n"
      ]
    },
    {
      "cell_type": "code",
      "metadata": {
        "id": "eAcGemlGbuUG",
        "colab": {
          "base_uri": "https://localhost:8080/"
        },
        "outputId": "bc86c9ee-1878-4844-d335-c8000ebd103f"
      },
      "source": [
        "print(X_test)\n",
        "print(X_train)\n",
        "\n",
        "print(len(list(X_test)))\n",
        "print(len(list(X_train)))"
      ],
      "execution_count": 7,
      "outputs": [
        {
          "output_type": "stream",
          "text": [
            "[[[0 0 0 ... 0 0 0]\n",
            "  [0 0 0 ... 0 0 0]\n",
            "  [0 0 0 ... 0 0 0]\n",
            "  ...\n",
            "  [0 0 0 ... 0 0 0]\n",
            "  [0 0 0 ... 0 0 0]\n",
            "  [0 0 0 ... 0 0 0]]\n",
            "\n",
            " [[0 0 0 ... 0 0 0]\n",
            "  [0 0 0 ... 0 0 0]\n",
            "  [0 0 0 ... 0 0 0]\n",
            "  ...\n",
            "  [0 0 0 ... 0 0 0]\n",
            "  [0 0 0 ... 0 0 0]\n",
            "  [0 0 0 ... 0 0 0]]\n",
            "\n",
            " [[0 0 0 ... 0 0 0]\n",
            "  [0 0 0 ... 0 0 0]\n",
            "  [0 0 0 ... 0 0 0]\n",
            "  ...\n",
            "  [0 0 0 ... 0 0 0]\n",
            "  [0 0 0 ... 0 0 0]\n",
            "  [0 0 0 ... 0 0 0]]\n",
            "\n",
            " ...\n",
            "\n",
            " [[0 0 0 ... 0 0 0]\n",
            "  [0 0 0 ... 0 0 0]\n",
            "  [0 0 0 ... 0 0 0]\n",
            "  ...\n",
            "  [0 0 0 ... 0 0 0]\n",
            "  [0 0 0 ... 0 0 0]\n",
            "  [0 0 0 ... 0 0 0]]\n",
            "\n",
            " [[0 0 0 ... 0 0 0]\n",
            "  [0 0 0 ... 0 0 0]\n",
            "  [0 0 0 ... 0 0 0]\n",
            "  ...\n",
            "  [0 0 0 ... 0 0 0]\n",
            "  [0 0 0 ... 0 0 0]\n",
            "  [0 0 0 ... 0 0 0]]\n",
            "\n",
            " [[0 0 0 ... 0 0 0]\n",
            "  [0 0 0 ... 0 0 0]\n",
            "  [0 0 0 ... 0 0 0]\n",
            "  ...\n",
            "  [0 0 0 ... 0 0 0]\n",
            "  [0 0 0 ... 0 0 0]\n",
            "  [0 0 0 ... 0 0 0]]]\n",
            "[[[0 0 0 ... 0 0 0]\n",
            "  [0 0 0 ... 0 0 0]\n",
            "  [0 0 0 ... 0 0 0]\n",
            "  ...\n",
            "  [0 0 0 ... 0 0 0]\n",
            "  [0 0 0 ... 0 0 0]\n",
            "  [0 0 0 ... 0 0 0]]\n",
            "\n",
            " [[0 0 0 ... 0 0 0]\n",
            "  [0 0 0 ... 0 0 0]\n",
            "  [0 0 0 ... 0 0 0]\n",
            "  ...\n",
            "  [0 0 0 ... 0 0 0]\n",
            "  [0 0 0 ... 0 0 0]\n",
            "  [0 0 0 ... 0 0 0]]\n",
            "\n",
            " [[0 0 0 ... 0 0 0]\n",
            "  [0 0 0 ... 0 0 0]\n",
            "  [0 0 0 ... 0 0 0]\n",
            "  ...\n",
            "  [0 0 0 ... 0 0 0]\n",
            "  [0 0 0 ... 0 0 0]\n",
            "  [0 0 0 ... 0 0 0]]\n",
            "\n",
            " ...\n",
            "\n",
            " [[0 0 0 ... 0 0 0]\n",
            "  [0 0 0 ... 0 0 0]\n",
            "  [0 0 0 ... 0 0 0]\n",
            "  ...\n",
            "  [0 0 0 ... 0 0 0]\n",
            "  [0 0 0 ... 0 0 0]\n",
            "  [0 0 0 ... 0 0 0]]\n",
            "\n",
            " [[0 0 0 ... 0 0 0]\n",
            "  [0 0 0 ... 0 0 0]\n",
            "  [0 0 0 ... 0 0 0]\n",
            "  ...\n",
            "  [0 0 0 ... 0 0 0]\n",
            "  [0 0 0 ... 0 0 0]\n",
            "  [0 0 0 ... 0 0 0]]\n",
            "\n",
            " [[0 0 0 ... 0 0 0]\n",
            "  [0 0 0 ... 0 0 0]\n",
            "  [0 0 0 ... 0 0 0]\n",
            "  ...\n",
            "  [0 0 0 ... 0 0 0]\n",
            "  [0 0 0 ... 0 0 0]\n",
            "  [0 0 0 ... 0 0 0]]]\n",
            "10000\n",
            "60000\n"
          ],
          "name": "stdout"
        }
      ]
    },
    {
      "cell_type": "markdown",
      "metadata": {
        "id": "ZnhPDvc8DCcr"
      },
      "source": [
        "**TODO** Zmień poniższy kod tak by wyświetlić 10 przykładowych obrazków - po jednym z każdej klasy."
      ]
    },
    {
      "cell_type": "code",
      "metadata": {
        "colab": {
          "base_uri": "https://localhost:8080/",
          "height": 294
        },
        "id": "G6DBqmkEcKKL",
        "outputId": "4d3486c5-d373-4aee-a8df-c4c85ef7c571"
      },
      "source": [
        "labels, j = [], 1\n",
        "for i in range(20):\n",
        "    plt.subplot(2,5,j)\n",
        "    if class_names[y_test[i]] not in labels:\n",
        "      plt.imshow(X_test[i], cmap='gray', interpolation='none')\n",
        "      labels.append(class_names[y_test[i]])\n",
        "      j += 1\n",
        "    plt.title(\"{}\".format(class_names[y_test[i]]))"
      ],
      "execution_count": 8,
      "outputs": [
        {
          "output_type": "stream",
          "text": [
            "/usr/local/lib/python3.7/dist-packages/ipykernel_launcher.py:3: MatplotlibDeprecationWarning: Adding an axes using the same arguments as a previous axes currently reuses the earlier instance.  In a future version, a new instance will always be created and returned.  Meanwhile, this warning can be suppressed, and the future behavior ensured, by passing a unique label to each axes instance.\n",
            "  This is separate from the ipykernel package so we can avoid doing imports until\n"
          ],
          "name": "stderr"
        },
        {
          "output_type": "display_data",
          "data": {
            "image/png": "[encoded data removed]",
            "text/plain": [
              "<Figure size 432x288 with 10 Axes>"
            ]
          },
          "metadata": {
            "tags": [],
            "needs_background": "light"
          }
        }
      ]
    },
    {
      "cell_type": "markdown",
      "metadata": {
        "id": "VMjUbt92c1hL"
      },
      "source": [
        "Sieć neuronowa przyjmuje na wejściu obrazek z jednym kanałem - poziomem jasności, więc konieczne jest przekształcenie danych wejściowych, aby każdy obraz 28 x 28 stał się macierzą 28 x 28 x 1. \n",
        "\n",
        "Skalujemy również dane wejściowe w zakresie [0–1] zamiast [0–255]"
      ]
    },
    {
      "cell_type": "code",
      "metadata": {
        "id": "eBEvZU9gdFfU",
        "colab": {
          "base_uri": "https://localhost:8080/"
        },
        "outputId": "36b196a6-9205-4c93-a846-6afe752c5519"
      },
      "source": [
        "X_train = X_train.reshape(60000, 28,28,1)\n",
        "X_test = X_test.reshape(10000, 28,28,1)\n",
        "X_train = X_train.astype('float32')\n",
        "X_test = X_test.astype('float32')\n",
        "X_train /= 255\n",
        "X_test /= 255\n",
        "print(\"Training matrix shape\", X_train.shape)\n",
        "print(\"Testing matrix shape\", X_test.shape)\n",
        "\n",
        "print(nb_classes)"
      ],
      "execution_count": 9,
      "outputs": [
        {
          "output_type": "stream",
          "text": [
            "Training matrix shape (60000, 28, 28, 1)\n",
            "Testing matrix shape (10000, 28, 28, 1)\n",
            "10\n"
          ],
          "name": "stdout"
        }
      ]
    },
    {
      "cell_type": "markdown",
      "metadata": {
        "id": "-tJKBV4LdMm7"
      },
      "source": [
        "Zmodyfikuj macierze wyjść korzystając z techniki One Hot Encoding, tj.\n",
        "\n",
        "```\n",
        "0 -> [1, 0, 0, 0, 0, 0, 0, 0, 0]\n",
        "1 -> [0, 1, 0, 0, 0, 0, 0, 0, 0]\n",
        "2 -> [0, 0, 1, 0, 0, 0, 0, 0, 0]\n",
        "```\n",
        "itp."
      ]
    },
    {
      "cell_type": "code",
      "metadata": {
        "id": "YeyLgauzdLUC"
      },
      "source": [
        "Y_train = np_utils.to_categorical(y_train)\n",
        "Y_test = np_utils.to_categorical(y_test)"
      ],
      "execution_count": 10,
      "outputs": []
    },
    {
      "cell_type": "markdown",
      "metadata": {
        "id": "0MBVlQSBDhd3"
      },
      "source": [
        "Wielowarstwowa sieć konwolucyjna do klasyfikacji ubrań."
      ]
    },
    {
      "cell_type": "code",
      "metadata": {
        "id": "JenWFnRJPyI6"
      },
      "source": [
        "model = Sequential([\n",
        "  Conv2D(16, 3, activation='relu', input_shape=(28, 28, 1)),\n",
        "  MaxPooling2D(),\n",
        "  Conv2D(32, 3, activation='relu'),\n",
        "  Flatten(),\n",
        "  Dense(64, activation='relu'),\n",
        "  Dense(10, activation='softmax')\n",
        "])\n",
        "\n",
        "model.compile(optimizer='adam', loss='categorical_crossentropy', metrics=['accuracy'])"
      ],
      "execution_count": 11,
      "outputs": []
    },
    {
      "cell_type": "code",
      "metadata": {
        "id": "iSxRrxYK6pUU",
        "colab": {
          "base_uri": "https://localhost:8080/"
        },
        "outputId": "aced16ed-2783-4f9e-d4e4-2b57327a67e1"
      },
      "source": [
        "model.summary()"
      ],
      "execution_count": 12,
      "outputs": [
        {
          "output_type": "stream",
          "text": [
            "Model: \"sequential\"\n",
            "_________________________________________________________________\n",
            "Layer (type)                 Output Shape              Param #   \n",
            "=================================================================\n",
            "conv2d (Conv2D)              (None, 26, 26, 16)        160       \n",
            "_________________________________________________________________\n",
            "max_pooling2d (MaxPooling2D) (None, 13, 13, 16)        0         \n",
            "_________________________________________________________________\n",
            "conv2d_1 (Conv2D)            (None, 11, 11, 32)        4640      \n",
            "_________________________________________________________________\n",
            "flatten (Flatten)            (None, 3872)              0         \n",
            "_________________________________________________________________\n",
            "dense (Dense)                (None, 64)                247872    \n",
            "_________________________________________________________________\n",
            "dense_1 (Dense)              (None, 10)                650       \n",
            "=================================================================\n",
            "Total params: 253,322\n",
            "Trainable params: 253,322\n",
            "Non-trainable params: 0\n",
            "_________________________________________________________________\n"
          ],
          "name": "stdout"
        }
      ]
    },
    {
      "cell_type": "markdown",
      "metadata": {
        "id": "7CKJgoMcDrFv"
      },
      "source": [
        "W celu skrócenia czasu uczenia sieci wskazane jest użycie GPU."
      ]
    },
    {
      "cell_type": "code",
      "metadata": {
        "id": "Xo3UTs-Hd8L0",
        "colab": {
          "base_uri": "https://localhost:8080/"
        },
        "outputId": "ee781096-a1fb-4c58-f71e-a29aa0f4293c"
      },
      "source": [
        "model.fit(X_train, Y_train,\n",
        "          batch_size=32, epochs=10,\n",
        "          verbose=1,\n",
        "          validation_data=(X_test, Y_test))"
      ],
      "execution_count": 14,
      "outputs": [
        {
          "output_type": "stream",
          "text": [
            "Epoch 1/10\n",
            "1875/1875 [==============================] - 6s 3ms/step - loss: 0.4382 - accuracy: 0.8424 - val_loss: 0.3540 - val_accuracy: 0.8715\n",
            "Epoch 2/10\n",
            "1875/1875 [==============================] - 6s 3ms/step - loss: 0.2960 - accuracy: 0.8916 - val_loss: 0.3024 - val_accuracy: 0.8920\n",
            "Epoch 3/10\n",
            "1875/1875 [==============================] - 6s 3ms/step - loss: 0.2447 - accuracy: 0.9107 - val_loss: 0.2630 - val_accuracy: 0.9018\n",
            "Epoch 4/10\n",
            "1875/1875 [==============================] - 6s 3ms/step - loss: 0.2107 - accuracy: 0.9221 - val_loss: 0.2583 - val_accuracy: 0.9111\n",
            "Epoch 5/10\n",
            "1875/1875 [==============================] - 6s 3ms/step - loss: 0.1819 - accuracy: 0.9329 - val_loss: 0.2425 - val_accuracy: 0.9130\n",
            "Epoch 6/10\n",
            "1875/1875 [==============================] - 6s 3ms/step - loss: 0.1570 - accuracy: 0.9426 - val_loss: 0.2560 - val_accuracy: 0.9160\n",
            "Epoch 7/10\n",
            "1875/1875 [==============================] - 6s 3ms/step - loss: 0.1376 - accuracy: 0.9487 - val_loss: 0.2841 - val_accuracy: 0.9094\n",
            "Epoch 8/10\n",
            "1875/1875 [==============================] - 6s 3ms/step - loss: 0.1188 - accuracy: 0.9562 - val_loss: 0.2485 - val_accuracy: 0.9200\n",
            "Epoch 9/10\n",
            "1875/1875 [==============================] - 6s 3ms/step - loss: 0.1021 - accuracy: 0.9621 - val_loss: 0.2822 - val_accuracy: 0.9157\n",
            "Epoch 10/10\n",
            "1875/1875 [==============================] - 6s 3ms/step - loss: 0.0895 - accuracy: 0.9669 - val_loss: 0.2897 - val_accuracy: 0.9137\n"
          ],
          "name": "stdout"
        },
        {
          "output_type": "execute_result",
          "data": {
            "text/plain": [
              "<tensorflow.python.keras.callbacks.History at 0x7f79384fba10>"
            ]
          },
          "metadata": {
            "tags": []
          },
          "execution_count": 14
        }
      ]
    },
    {
      "cell_type": "markdown",
      "metadata": {
        "id": "VUF-tZzKG_5r"
      },
      "source": [
        "# Zapisywanie NN\n",
        "\n",
        "Szczegółowe informacje dotyczące zapisywania modeli TensorFlow dostępne pod linkiem:\n",
        "\n",
        "https://www.tensorflow.org/tutorials/keras/save_and_load"
      ]
    },
    {
      "cell_type": "code",
      "metadata": {
        "id": "_XXAwJIjR-eF",
        "colab": {
          "base_uri": "https://localhost:8080/"
        },
        "outputId": "8df3afbc-a83f-4f41-da55-f0260bd1e6c8"
      },
      "source": [
        "export_dir = 'saved_model'\n",
        "model.save(export_dir)"
      ],
      "execution_count": 15,
      "outputs": [
        {
          "output_type": "stream",
          "text": [
            "INFO:tensorflow:Assets written to: saved_model/assets\n"
          ],
          "name": "stdout"
        }
      ]
    },
    {
      "cell_type": "markdown",
      "metadata": {
        "id": "2Qc03BzFZkOL"
      },
      "source": [
        "Po zapisaniu modelu należy kliknąć \"Refresh\" po lewej stronie w zakładce \"Files\". W katalogu \"saved_model\" znajduje się zapisany model."
      ]
    },
    {
      "cell_type": "markdown",
      "metadata": {
        "id": "2ikJea6vRj4o"
      },
      "source": [
        "# Export do TFLite\n",
        "\n",
        "Narzędzie `TFLiteConverter` zostanie wykorzystane do konwersji modelu NN do formatu akceptowanego przez TFLite tzn. `flat protocol buffers`.\n",
        "\n",
        "https://www.tensorflow.org/lite/guide/get_started#2_convert_the_model_format\n",
        "\n",
        "Wygenerowany model `\"model-base.tflite\"` operuje na wagach typu `float32`."
      ]
    },
    {
      "cell_type": "code",
      "metadata": {
        "id": "IWcRPnrS5NxX"
      },
      "source": [
        "  converter = tf.lite.TFLiteConverter.from_saved_model(export_dir)\n",
        "  tflite_model = converter.convert()\n",
        "\n",
        "  with open(\"model-base.tflite\", \"wb\") as f:\n",
        "    f.write(tflite_model)  \n"
      ],
      "execution_count": 16,
      "outputs": []
    },
    {
      "cell_type": "markdown",
      "metadata": {
        "id": "yxUdslmYapId"
      },
      "source": [
        "Po zapisaniu modelu należy kliknąć \"Refresh\" po lewej stronie w zakładce \"Files\". "
      ]
    },
    {
      "cell_type": "markdown",
      "metadata": {
        "id": "RAw9StfeGxB3"
      },
      "source": [
        "Kolejnym krokiem jest kwantyzacja wag modelu z 32 bitowych liczb rzeczywistych do liczb 8 bitowych. Proces kwantyzacji jest uruchamiany na gotowym, wyuczonym modelu. Należy wybrać profil optymaliacji `tf.lite.Optimize.DEFAULT`.\n",
        "\n"
      ]
    },
    {
      "cell_type": "code",
      "metadata": {
        "id": "cimp2vhU51dZ"
      },
      "source": [
        "  converter = tf.lite.TFLiteConverter.from_saved_model(export_dir)\n",
        "  \n",
        "  #TODO ustaw odpowiedni rodzaj optymalizacji sieci neuronowej\n",
        "  converter.optimizations = [tf.lite.Optimize.DEFAULT]\n",
        "\n",
        "  tflite_model = converter.convert()\n",
        "\n",
        "  with open(\"model-quant.tflite\", \"wb\") as f:\n",
        "    f.write(tflite_model)  \n"
      ],
      "execution_count": 17,
      "outputs": []
    },
    {
      "cell_type": "markdown",
      "metadata": {
        "id": "Qr9DQgrKHi_B"
      },
      "source": [
        "Po zapisaniu modelu należy kliknąć \"Refresh\" po lewej stronie w zakładce \"Files\"."
      ]
    },
    {
      "cell_type": "code",
      "metadata": {
        "id": "ZUcelAwJ5NU7"
      },
      "source": [
        "# funkcja testujaca model z wykorzystaniem interpretera TFLite\n",
        "# TODO zmodyfikuj funkcje tak by zwracala (accuracy, latency)\n",
        "\n",
        "import time\n",
        "from statistics import mean\n",
        "\n",
        "def test_model_accuracy(tflite_model):\n",
        "  # Load TFLite model and allocate tensors.\n",
        "  interpreter = tf.lite.Interpreter(model_path=tflite_model)\n",
        "  interpreter.allocate_tensors()\n",
        "\n",
        "  input_index = interpreter.get_input_details()[0][\"index\"]\n",
        "  output_index = interpreter.get_output_details()[0][\"index\"]\n",
        "  accuracy, all = 0, 0\n",
        "  time_list = []\n",
        "\n",
        "  for img, label in zip(X_test, y_test):\n",
        "    all += 1\n",
        "    interpreter.set_tensor(input_index, [img])\n",
        "\n",
        "    start_time = time.time()\n",
        "    interpreter.invoke()\n",
        "    end_time = time.time()\n",
        "    time_list.append(end_time - start_time)\n",
        "\n",
        "    prediction = interpreter.get_tensor(output_index)\n",
        "    label_is = np.argmax(prediction, axis=-1)[0]\n",
        "    label_should_be = label\n",
        "    if label_is == label_should_be:\n",
        "      accuracy += 1\n",
        "\n",
        "    # print(\"Label is {} should be {}.\".format(label_is, label_should_be))\n",
        "\n",
        "  accuracy /= all\n",
        "  latency = mean(time_list) * 1000\n",
        "\n",
        "  return (accuracy, latency)\n"
      ],
      "execution_count": 26,
      "outputs": []
    },
    {
      "cell_type": "code",
      "metadata": {
        "id": "_tHC8pGhT0_N",
        "colab": {
          "base_uri": "https://localhost:8080/"
        },
        "outputId": "4dba6db7-2c65-4f41-94d8-a142848ad58c"
      },
      "source": [
        "#TODO tylko na potrzeby testowania - do usuniecia\n",
        "print(test_model_accuracy(\"model-base.tflite\"))\n",
        "\n",
        "#TODO tylko na potrzeby testowania - do usuniecia\n",
        "print(test_model_accuracy(\"model-quant.tflite\"))\n"
      ],
      "execution_count": 28,
      "outputs": [
        {
          "output_type": "stream",
          "text": [
            "(0.9137, 0.2298215866088867)\n",
            "(0.9136, 1.7548237800598145)\n"
          ],
          "name": "stdout"
        }
      ]
    },
    {
      "cell_type": "code",
      "metadata": {
        "id": "9SshGHd36A9a",
        "colab": {
          "base_uri": "https://localhost:8080/",
          "height": 282
        },
        "outputId": "56f1415b-8a7c-4b92-9c08-bca3ca55603e"
      },
      "source": [
        "# porównaj dokladnosc wynikowych modeli TFLite\n",
        "\n",
        "# TODO wyniki przedstaw na wykresie słupkowym (jeden slupek dla model-base, a drugi dla model-quant)\n",
        "plt.bar(['model-base', 'model-quant'], (test_model_accuracy(\"model-base.tflite\")[0], test_model_accuracy(\"model-quant.tflite\")[0]))"
      ],
      "execution_count": 32,
      "outputs": [
        {
          "output_type": "execute_result",
          "data": {
            "text/plain": [
              "<BarContainer object of 2 artists>"
            ]
          },
          "metadata": {
            "tags": []
          },
          "execution_count": 32
        },
        {
          "output_type": "display_data",
          "data": {
            "image/png": "[encoded data removed]",
            "text/plain": [
              "<Figure size 432x288 with 1 Axes>"
            ]
          },
          "metadata": {
            "tags": [],
            "needs_background": "light"
          }
        }
      ]
    },
    {
      "cell_type": "code",
      "metadata": {
        "id": "sZ9FYFBnIBaY",
        "colab": {
          "base_uri": "https://localhost:8080/",
          "height": 293
        },
        "outputId": "835ecda8-f32b-4a0f-b125-9154cc90494f"
      },
      "source": [
        "# porównaj rozmiar wynikowych modeli TFLite\n",
        "\n",
        "# TODO wyniki przedstaw na wykresie słupkowym (jeden slupek dla model-base, a drugi dla model-quant)\n",
        "sizes = [pathlib.Path('model-base.tflite').stat().st_size, pathlib.Path('model-quant.tflite').stat().st_size]\n",
        "plt.bar(['model-base', 'model-quant'], sizes)"
      ],
      "execution_count": 34,
      "outputs": [
        {
          "output_type": "execute_result",
          "data": {
            "text/plain": [
              "<BarContainer object of 2 artists>"
            ]
          },
          "metadata": {
            "tags": []
          },
          "execution_count": 34
        },
        {
          "output_type": "display_data",
          "data": {
            "image/png": "[encoded data removed]",
            "text/plain": [
              "<Figure size 432x288 with 1 Axes>"
            ]
          },
          "metadata": {
            "tags": [],
            "needs_background": "light"
          }
        }
      ]
    },
    {
      "cell_type": "code",
      "metadata": {
        "id": "ymoU1RNc6D5m",
        "colab": {
          "base_uri": "https://localhost:8080/",
          "height": 282
        },
        "outputId": "44e905cc-b352-4504-ed44-80aa4278a265"
      },
      "source": [
        "# porównaj czas dzialania wynikowych modeli TFLite\n",
        "\n",
        "# TODO wyniki przedstaw na wykresie słupkowym (jeden slupek dla model-base, a drugi dla model-quant)\n",
        "plt.bar(['model-base', 'model-quant'], (test_model_accuracy(\"model-base.tflite\")[1], test_model_accuracy(\"model-quant.tflite\")[1]))"
      ],
      "execution_count": 35,
      "outputs": [
        {
          "output_type": "execute_result",
          "data": {
            "text/plain": [
              "<BarContainer object of 2 artists>"
            ]
          },
          "metadata": {
            "tags": []
          },
          "execution_count": 35
        },
        {
          "output_type": "display_data",
          "data": {
            "image/png": "[encoded data removed]",
            "text/plain": [
              "<Figure size 432x288 with 1 Axes>"
            ]
          },
          "metadata": {
            "tags": [],
            "needs_background": "light"
          }
        }
      ]
    },
    {
      "cell_type": "markdown",
      "metadata": {
        "id": "5fCWZL6YuiDh"
      },
      "source": [
        " # Wnioski\n",
        "\n",
        "Wnioski z przeprowadzonych eksperymentów:\n",
        "model base jest około 4 razy większy od model quant i działa około 8 razy     szybciej przy podobnym poziomie dokładności.\n",
        "\n",
        "Dlaczego czasy działania modeli są różne?:\n",
        "Wynika to przede wszystkim z kształtu warstw i architektury wykorzystanego procesora."
      ]
    }
  ]
}