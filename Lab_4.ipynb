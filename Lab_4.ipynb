{
  "nbformat": 4,
  "nbformat_minor": 0,
  "metadata": {
    "colab": {
      "name": "lab3_student_v6.ipynb",
      "provenance": [],
      "collapsed_sections": []
    },
    "kernelspec": {
      "display_name": "Python 3",
      "language": "python",
      "name": "python3"
    },
    "language_info": {
      "codemirror_mode": {
        "name": "ipython",
        "version": 3
      },
      "file_extension": ".py",
      "mimetype": "text/x-python",
      "name": "python",
      "nbconvert_exporter": "python",
      "pygments_lexer": "ipython3",
      "version": "3.8.5"
    },
    "accelerator": "GPU"
  },
  "cells": [
    {
      "cell_type": "markdown",
      "metadata": {
        "id": "fs1IGQZELwru"
      },
      "source": [
        "# LAB3 - Uczenie sieci neuronowych z wykorzystaniem GPU\n",
        "ver: 6"
      ]
    },
    {
      "cell_type": "markdown",
      "metadata": {
        "id": "yS56lpyELwry"
      },
      "source": [
        "Przedmiot: _Sztuczna Inteligencja w Systemach Informatycznych_\n",
        "\n",
        "Autor: Tomasz Szydło\n",
        "\n",
        "kontakt: tszydlo@agh.edu.pl"
      ]
    },
    {
      "cell_type": "markdown",
      "metadata": {
        "id": "AZ_S41L3Lwr6"
      },
      "source": [
        "Celem laboratorium jest porównanie czasu uczenia sieci neuronowych z wykorzystaniem CPU oraz GPU. Przedmiotem uczenia będzie sieć rozpoznająca cyfry pisane odręcznie. W procesie uczenia zostanie wykorzystany zbiór MNIST:\n",
        "\n",
        "http://yann.lecun.com/exdb/mnist/\n",
        "\n",
        "\n",
        "Laboratorium może być zrealizowane w dwóch środowiskach pracy:\n",
        " * Google Colab w chmurze obliczeniowej;\n",
        " * lokalnie na komputerze wyposażonym w GPU.\n"
      ]
    },
    {
      "cell_type": "markdown",
      "metadata": {
        "id": "IpmQdcI4FZ1L"
      },
      "source": [
        "## Środowisko pracy - Google Codelab\n",
        "\n",
        "https://codelabs.developers.google.com/?cat=Machine+Learning\n",
        "\n",
        "Dostęp do notatnika: https://colab.research.google.com\n",
        "\n",
        "Włączenie/wyłączenie wsparcia GPU odbywa się poprzez zmianę opcji środowiska uruchomieniowego:\n",
        " * Runtime -> Change runtime type -> Hardware accelerator -> None/GPU\n"
      ]
    },
    {
      "cell_type": "markdown",
      "metadata": {
        "id": "e1Q7W6I1FsVO"
      },
      "source": [
        "## Środowisko pracy - PC + GPU/CUDA + Anaconda\n",
        "\n",
        "Realizacja laboratorium wymaga Anacondy ze środowiskami:\n",
        " * tensorflow\n",
        " * tensorflow_gpuenv\n",
        " \n",
        "Różnica pomiędzy nimi polega na wykorzystaniu implementacji biblioteki Tensorflow z NVidia CUDA.\n",
        "\n",
        "Tworzenie środowisk:\n",
        " * wersja z CPU:\n",
        "\n",
        "```\n",
        "conda create -n tensorflow_env tensorflow\n",
        "conda activate tensorflow_env\n",
        "```\n",
        "\n",
        " * wersja z GPU:\n",
        "\n",
        "```\n",
        "conda create -n tensorflow_gpuenv tensorflow-gpu\n",
        "conda activate tensorflow_gpuenv\n",
        "```\n",
        "\n",
        "Za pomocą Anaconda Navigator uruchamiamy Jupyter Notebook w konkretnym środowisku - tylko CPU lub ze wsparciem GPU.\n"
      ]
    },
    {
      "cell_type": "markdown",
      "metadata": {
        "id": "F25OBqfZLwsA"
      },
      "source": [
        "## Sieć neuronowa dla zbioru MNIST"
      ]
    },
    {
      "cell_type": "markdown",
      "metadata": {
        "id": "aTQZi3VcLwsC"
      },
      "source": [
        "Przygotowanie środowiska - należy uruchomić notatnik z obliczeniami wyłącznie na CPU."
      ]
    },
    {
      "cell_type": "code",
      "metadata": {
        "id": "Qs9wYVcZNY05"
      },
      "source": [
        "try:\n",
        "  %tensorflow_version 2.x\n",
        "except:\n",
        "  pass"
      ],
      "execution_count": 2,
      "outputs": []
    },
    {
      "cell_type": "code",
      "metadata": {
        "id": "y3MzdLevLwsD"
      },
      "source": [
        "import numpy as np\n",
        "import matplotlib.pyplot as plt\n",
        "import tensorflow\n",
        "\n",
        "from tensorflow.keras.datasets import mnist\n",
        "from tensorflow.keras.models import Sequential\n",
        "from tensorflow.keras.layers import Dense, Dropout, Activation, Flatten, Conv2D, AveragePooling2D\n",
        "from keras.utils import np_utils\n",
        "\n",
        "plt.rcParams['figure.figsize'] = (7,7) # Make the figures a bit bigger"
      ],
      "execution_count": 3,
      "outputs": []
    },
    {
      "cell_type": "code",
      "metadata": {
        "id": "aM1I_zfvxOKD",
        "colab": {
          "base_uri": "https://localhost:8080/"
        },
        "outputId": "736f23fc-560f-40aa-8138-55e7d4259b6c"
      },
      "source": [
        "physical_devices = tensorflow.config.list_physical_devices('GPU')\n",
        "print(\"Num GPUs:\", len(physical_devices))"
      ],
      "execution_count": 4,
      "outputs": [
        {
          "output_type": "stream",
          "text": [
            "Num GPUs: 1\n"
          ],
          "name": "stdout"
        }
      ]
    },
    {
      "cell_type": "code",
      "metadata": {
        "id": "6aDH7dBMLwsY",
        "colab": {
          "base_uri": "https://localhost:8080/"
        },
        "outputId": "3c8430f8-c7e8-4888-d597-564c6d9a11a5"
      },
      "source": [
        "nb_classes = 10\n",
        "\n",
        "# the data, shuffled and split between tran and test sets\n",
        "(X_train, y_train), (X_test, y_test) = mnist.load_data()\n",
        "print(\"X_train original shape\", X_train.shape)\n",
        "print(\"y_train original shape\", y_train.shape)"
      ],
      "execution_count": 5,
      "outputs": [
        {
          "output_type": "stream",
          "text": [
            "Downloading data from https://storage.googleapis.com/tensorflow/tf-keras-datasets/mnist.npz\n",
            "11493376/11490434 [==============================] - 0s 0us/step\n",
            "X_train original shape (60000, 28, 28)\n",
            "y_train original shape (60000,)\n"
          ],
          "name": "stdout"
        }
      ]
    },
    {
      "cell_type": "markdown",
      "metadata": {
        "id": "e1Fb4X4sLwsh"
      },
      "source": [
        "Zwizualizuj przykładowe dane."
      ]
    },
    {
      "cell_type": "code",
      "metadata": {
        "id": "q741OgE6Lwsi",
        "colab": {
          "base_uri": "https://localhost:8080/",
          "height": 444
        },
        "outputId": "cc231aca-c361-4dbc-8ecd-8af9b0d9879a"
      },
      "source": [
        "for i in range(9):\n",
        "    plt.subplot(3,3,i+1)\n",
        "    plt.imshow(X_train[i], cmap='gray', interpolation='none')\n",
        "    plt.title(\"Class {}\".format(y_train[i]))"
      ],
      "execution_count": 6,
      "outputs": [
        {
          "output_type": "display_data",
          "data": {
            "image/png": "[encoded data removed]",
            "text/plain": [
              "<Figure size 504x504 with 9 Axes>"
            ]
          },
          "metadata": {
            "tags": [],
            "needs_background": "light"
          }
        }
      ]
    },
    {
      "cell_type": "markdown",
      "metadata": {
        "id": "NuFEHgMhLwsp"
      },
      "source": [
        "Sieć neuronowa przyjmuje na wejściu obrazek z jednym kanałem - poziomem jasności, więc konieczne jest przekształcenie danych wejściowych, aby każdy obraz 28 x 28 stał się macierzą 28 x 28 x 1. \n",
        "\n",
        "Skalujemy również dane wejściowe w zakresie [0–1] zamiast [0–255]"
      ]
    },
    {
      "cell_type": "code",
      "metadata": {
        "id": "2XwmB8dSLwsq",
        "colab": {
          "base_uri": "https://localhost:8080/"
        },
        "outputId": "05724586-e9ca-4d09-f65e-644debf78866"
      },
      "source": [
        "X_train = X_train.reshape(60000, 28,28,1)\n",
        "X_test = X_test.reshape(10000, 28,28,1)\n",
        "\n",
        "X_train = X_train.astype('float32')\n",
        "X_test = X_test.astype('float32')\n",
        "X_train /= 255 \n",
        "X_test /= 255\n",
        "print(\"Training matrix shape\", X_train.shape)\n",
        "print(\"Testing matrix shape\", X_test.shape)"
      ],
      "execution_count": 7,
      "outputs": [
        {
          "output_type": "stream",
          "text": [
            "Training matrix shape (60000, 28, 28, 1)\n",
            "Testing matrix shape (10000, 28, 28, 1)\n"
          ],
          "name": "stdout"
        }
      ]
    },
    {
      "cell_type": "markdown",
      "metadata": {
        "id": "hU9F52b4Lwsy"
      },
      "source": [
        "Zmodyfikuj macierze wyjść korzystając z techniki One Hot Encoding, tj.\n",
        "\n",
        "```\n",
        "0 -> [1, 0, 0, 0, 0, 0, 0, 0, 0]\n",
        "1 -> [0, 1, 0, 0, 0, 0, 0, 0, 0]\n",
        "2 -> [0, 0, 1, 0, 0, 0, 0, 0, 0]\n",
        "```\n",
        "itp."
      ]
    },
    {
      "cell_type": "code",
      "metadata": {
        "id": "mOEeudBmLwsz"
      },
      "source": [
        "Y_train = np_utils.to_categorical(y_train)\n",
        "Y_test = np_utils.to_categorical(y_test)"
      ],
      "execution_count": 8,
      "outputs": []
    },
    {
      "cell_type": "markdown",
      "metadata": {
        "id": "AM5Kq1eaLws4"
      },
      "source": [
        "#Sieć MLP\n",
        "Zbuduj sieć neuronową. Na potrzeby zajęć sieć będzie posiadała 2 w pełni połączone warstwy. Na wejściu sieci jest macierz z jednym kanałem (28,28,1) dlatego pierwsza warstwa to *Flatten()*."
      ]
    },
    {
      "cell_type": "code",
      "metadata": {
        "id": "wKreY86SLws5"
      },
      "source": [
        "model = Sequential()\n",
        "model.add(Flatten(input_shape=(28,28,)))\n",
        "model.add(Dense(512, input_shape=(784,)))\n",
        "model.add(Activation('relu'))\n",
        "model.add(Dropout(0.2))   # Dropout helps protect the model from memorizing or \"overfitting\" the training data\n",
        "\n",
        "model.add(Dense(512))\n",
        "model.add(Activation('relu'))\n",
        "model.add(Dropout(0.2))\n",
        "\n",
        "model.add(Dense(10))\n",
        "model.add(Activation('softmax')) # w celu zapewnienia rozkładu wyjść sumującego się do 1"
      ],
      "execution_count": 23,
      "outputs": []
    },
    {
      "cell_type": "markdown",
      "metadata": {
        "id": "5IIpzKZJ2gaQ"
      },
      "source": [
        "#Sieć CNN\n",
        "Zbuduj sieć neuronową. Powinna to być sieć LeNet-5 ze zmodyfikowanym rozmiarem wejścia (28,28,1) zamiast (32,32,1)."
      ]
    },
    {
      "cell_type": "code",
      "metadata": {
        "id": "CDGMkAkw2jjO"
      },
      "source": [
        "model = Sequential()\n",
        "\n",
        "model.add(Conv2D(filters=6, kernel_size=(3, 3), activation='relu', input_shape=(28,28,1)))\n",
        "model.add(AveragePooling2D())\n",
        "\n",
        "model.add(Conv2D(filters=16, kernel_size=(3, 3), activation='relu'))\n",
        "model.add(AveragePooling2D())\n",
        "\n",
        "model.add(Flatten())\n",
        "\n",
        "model.add(Dense(units=120, activation='relu'))\n",
        "\n",
        "model.add(Dense(units=84, activation='relu'))\n",
        "\n",
        "model.add(Dense(units=10, activation='softmax'))"
      ],
      "execution_count": 24,
      "outputs": []
    },
    {
      "cell_type": "markdown",
      "metadata": {
        "id": "aWGpp5O1Lws-"
      },
      "source": [
        "#Kompilacja modelu\n",
        "\n",
        "Kolejnym krokiem jest kompilacja modelu. Biblioteka Keras jest wysokopoziomowym API upraszczającym tworzenie i uczenie sieci neuronowych z wykorzystaniem biblitoeki Tensorflow. Podczas kompilacji sieci, biblioteka Keras wymaga określenia funkcji strat oraz algorytmu optymalizującego proces uczenia."
      ]
    },
    {
      "cell_type": "code",
      "metadata": {
        "id": "Cpn0-puHLws-"
      },
      "source": [
        "model.compile(loss='categorical_crossentropy', optimizer='adam', metrics=['accuracy'])"
      ],
      "execution_count": 25,
      "outputs": []
    },
    {
      "cell_type": "code",
      "metadata": {
        "id": "MZH1a31GLwtF",
        "colab": {
          "base_uri": "https://localhost:8080/"
        },
        "outputId": "9dd7839f-56bb-44b2-86e6-30549c09b613"
      },
      "source": [
        "model.summary()"
      ],
      "execution_count": 26,
      "outputs": [
        {
          "output_type": "stream",
          "text": [
            "Model: \"sequential_4\"\n",
            "_________________________________________________________________\n",
            "Layer (type)                 Output Shape              Param #   \n",
            "=================================================================\n",
            "conv2d_4 (Conv2D)            (None, 26, 26, 6)         60        \n",
            "_________________________________________________________________\n",
            "average_pooling2d_4 (Average (None, 13, 13, 6)         0         \n",
            "_________________________________________________________________\n",
            "conv2d_5 (Conv2D)            (None, 11, 11, 16)        880       \n",
            "_________________________________________________________________\n",
            "average_pooling2d_5 (Average (None, 5, 5, 16)          0         \n",
            "_________________________________________________________________\n",
            "flatten_4 (Flatten)          (None, 400)               0         \n",
            "_________________________________________________________________\n",
            "dense_12 (Dense)             (None, 120)               48120     \n",
            "_________________________________________________________________\n",
            "dense_13 (Dense)             (None, 84)                10164     \n",
            "_________________________________________________________________\n",
            "dense_14 (Dense)             (None, 10)                850       \n",
            "=================================================================\n",
            "Total params: 60,074\n",
            "Trainable params: 60,074\n",
            "Non-trainable params: 0\n",
            "_________________________________________________________________\n"
          ],
          "name": "stdout"
        }
      ]
    },
    {
      "cell_type": "markdown",
      "metadata": {
        "id": "oN0iPEysLwtK"
      },
      "source": [
        "Po kompilacji modelu sieci neuronowej można przystąpić do uczenia sieci. Ze względu na fakt, że Jupyter notebook został uruchiomy w środowisku z biblioteką Tensorflow bez wsparcia dla GPU, to obliczenia będa wykonywane tylko i wyłącznie na CPU."
      ]
    },
    {
      "cell_type": "code",
      "metadata": {
        "id": "h13u1lcur4wl"
      },
      "source": [
        "import time\n",
        "import keras\n",
        "class TimeHistory(keras.callbacks.Callback):\n",
        "    def on_train_begin(self, logs={}):\n",
        "        self.times = []\n",
        "\n",
        "    def on_epoch_begin(self, batch, logs={}):\n",
        "        self.epoch_time_start = time.time()\n",
        "\n",
        "    def on_epoch_end(self, batch, logs={}):\n",
        "        self.times.append(time.time() - self.epoch_time_start)\n",
        "time_callback = TimeHistory()"
      ],
      "execution_count": 27,
      "outputs": []
    },
    {
      "cell_type": "code",
      "metadata": {
        "id": "97euA1BoLwtK",
        "colab": {
          "base_uri": "https://localhost:8080/"
        },
        "outputId": "6e6356f2-60ae-4069-fa71-b4f5dff580d7"
      },
      "source": [
        "model.fit(X_train, Y_train,\n",
        "          batch_size=128, epochs=16,\n",
        "          verbose=1,\n",
        "          validation_data=(X_test, Y_test), callbacks = time_callback)"
      ],
      "execution_count": 28,
      "outputs": [
        {
          "output_type": "stream",
          "text": [
            "Epoch 1/16\n",
            "469/469 [==============================] - 4s 7ms/step - loss: 0.7272 - accuracy: 0.7935 - val_loss: 0.1096 - val_accuracy: 0.9675\n",
            "Epoch 2/16\n",
            "469/469 [==============================] - 3s 6ms/step - loss: 0.1122 - accuracy: 0.9666 - val_loss: 0.0733 - val_accuracy: 0.9780\n",
            "Epoch 3/16\n",
            "469/469 [==============================] - 3s 6ms/step - loss: 0.0767 - accuracy: 0.9778 - val_loss: 0.0623 - val_accuracy: 0.9802\n",
            "Epoch 4/16\n",
            "469/469 [==============================] - 3s 6ms/step - loss: 0.0588 - accuracy: 0.9822 - val_loss: 0.0523 - val_accuracy: 0.9835\n",
            "Epoch 5/16\n",
            "469/469 [==============================] - 3s 6ms/step - loss: 0.0467 - accuracy: 0.9859 - val_loss: 0.0431 - val_accuracy: 0.9867\n",
            "Epoch 6/16\n",
            "469/469 [==============================] - 3s 6ms/step - loss: 0.0421 - accuracy: 0.9871 - val_loss: 0.0419 - val_accuracy: 0.9860\n",
            "Epoch 7/16\n",
            "469/469 [==============================] - 3s 6ms/step - loss: 0.0338 - accuracy: 0.9899 - val_loss: 0.0429 - val_accuracy: 0.9865\n",
            "Epoch 8/16\n",
            "469/469 [==============================] - 3s 6ms/step - loss: 0.0351 - accuracy: 0.9892 - val_loss: 0.0385 - val_accuracy: 0.9876\n",
            "Epoch 9/16\n",
            "469/469 [==============================] - 3s 6ms/step - loss: 0.0286 - accuracy: 0.9900 - val_loss: 0.0348 - val_accuracy: 0.9891\n",
            "Epoch 10/16\n",
            "469/469 [==============================] - 3s 6ms/step - loss: 0.0242 - accuracy: 0.9926 - val_loss: 0.0384 - val_accuracy: 0.9877\n",
            "Epoch 11/16\n",
            "469/469 [==============================] - 3s 6ms/step - loss: 0.0212 - accuracy: 0.9934 - val_loss: 0.0360 - val_accuracy: 0.9883\n",
            "Epoch 12/16\n",
            "469/469 [==============================] - 3s 6ms/step - loss: 0.0195 - accuracy: 0.9934 - val_loss: 0.0340 - val_accuracy: 0.9897\n",
            "Epoch 13/16\n",
            "469/469 [==============================] - 3s 6ms/step - loss: 0.0180 - accuracy: 0.9940 - val_loss: 0.0404 - val_accuracy: 0.9875\n",
            "Epoch 14/16\n",
            "469/469 [==============================] - 3s 6ms/step - loss: 0.0137 - accuracy: 0.9955 - val_loss: 0.0454 - val_accuracy: 0.9856\n",
            "Epoch 15/16\n",
            "469/469 [==============================] - 3s 6ms/step - loss: 0.0157 - accuracy: 0.9946 - val_loss: 0.0387 - val_accuracy: 0.9892\n",
            "Epoch 16/16\n",
            "469/469 [==============================] - 3s 6ms/step - loss: 0.0121 - accuracy: 0.9961 - val_loss: 0.0368 - val_accuracy: 0.9891\n"
          ],
          "name": "stdout"
        },
        {
          "output_type": "execute_result",
          "data": {
            "text/plain": [
              "<tensorflow.python.keras.callbacks.History at 0x7fb217c47b50>"
            ]
          },
          "metadata": {
            "tags": []
          },
          "execution_count": 28
        }
      ]
    },
    {
      "cell_type": "code",
      "metadata": {
        "id": "jT9qa296sjL9",
        "colab": {
          "base_uri": "https://localhost:8080/"
        },
        "outputId": "3a319051-8c89-4783-bf99-c86cedb94e70"
      },
      "source": [
        "times = time_callback.times\n",
        "\n",
        "print(times)"
      ],
      "execution_count": 29,
      "outputs": [
        {
          "output_type": "stream",
          "text": [
            "[3.7590761184692383, 2.94075608253479, 2.9472908973693848, 2.93229603767395, 2.920799970626831, 2.941141366958618, 2.946126937866211, 2.980356454849243, 2.942654848098755, 2.91345477104187, 2.9224255084991455, 2.9661388397216797, 2.9205188751220703, 2.950572967529297, 2.9942209720611572, 2.917630910873413]\n"
          ],
          "name": "stdout"
        }
      ]
    },
    {
      "cell_type": "markdown",
      "metadata": {
        "id": "QwwGeJ6PLwtp"
      },
      "source": [
        "## Ewaluacja sieci neuronowej dla zbioru MNIST"
      ]
    },
    {
      "cell_type": "code",
      "metadata": {
        "id": "W8ZNIBBdLwtr",
        "colab": {
          "base_uri": "https://localhost:8080/",
          "height": 888
        },
        "outputId": "986eab3b-bef5-4867-eaab-2f81e92354d6"
      },
      "source": [
        "score = model.evaluate(X_test, Y_test,verbose=0)\n",
        "print('Test score:', score)\n",
        "\n",
        "predicted_classes = np.argmax(model.predict(X_test), axis=-1)\n",
        "correct_indices = np.nonzero(predicted_classes == y_test)[0]\n",
        "incorrect_indices = np.nonzero(predicted_classes != y_test)[0]\n",
        "\n",
        "plt.figure()\n",
        "for i, correct in enumerate(correct_indices[:9]):\n",
        "    plt.subplot(3,3,i+1)\n",
        "    plt.imshow(X_test[correct].reshape(28,28), cmap='gray', interpolation='none')\n",
        "    plt.title(\"Predicted {}, Class {}\".format(predicted_classes[correct], y_test[correct]))\n",
        "    \n",
        "plt.figure()\n",
        "for i, incorrect in enumerate(incorrect_indices[:9]):\n",
        "    plt.subplot(3,3,i+1)\n",
        "    plt.imshow(X_test[incorrect].reshape(28,28), cmap='gray', interpolation='none')\n",
        "    plt.title(\"Predicted {}, Class {}\".format(predicted_classes[incorrect], y_test[incorrect]))"
      ],
      "execution_count": 24,
      "outputs": [
        {
          "output_type": "stream",
          "text": [
            "Test score: [7.5577006340026855, 0.11349999904632568]\n"
          ],
          "name": "stdout"
        },
        {
          "output_type": "display_data",
          "data": {
            "image/png": "[encoded data removed]",
            "text/plain": [
              "<Figure size 504x504 with 9 Axes>"
            ]
          },
          "metadata": {
            "tags": [],
            "needs_background": "light"
          }
        },
        {
          "output_type": "display_data",
          "data": {
            "image/png": "[encoded data removed]",
            "text/plain": [
              "<Figure size 504x504 with 9 Axes>"
            ]
          },
          "metadata": {
            "tags": [],
            "needs_background": "light"
          }
        }
      ]
    },
    {
      "cell_type": "markdown",
      "metadata": {
        "id": "XT0BYxGwLwtS"
      },
      "source": [
        "## Analiza czasu uczenia sieci z wykorzystaniem CPU oraz przy wsparciu GPU"
      ]
    },
    {
      "cell_type": "markdown",
      "metadata": {
        "id": "jv7kWHYwLwtS"
      },
      "source": [
        "Uzupełnij poniższy fragment kodu wpisując dane dotyczące czasu obliczeń dla każdej z szesnastu epok uczenia sieci neuronowej."
      ]
    },
    {
      "cell_type": "code",
      "metadata": {
        "id": "PBhpuE6SLwtT"
      },
      "source": [
        "cpu_epoch_time_MLP = [6.575114011764526, 5.76635217666626, 5.799602746963501, 5.78847599029541, 5.823761940002441, 5.828265905380249, 5.836785078048706, 5.82882833480835, 5.841684818267822, 5.854113340377808, 5.909862518310547, 5.902889728546143, 5.865640878677368, 5.972139835357666, 5.929137706756592, 5.987830877304077]\n",
        "cpu_accuracy_MLP = 0.9825\n",
        "\n",
        "cpu_epoch_time_CNN = [18.66485333442688, 18.00984764099121, 18.002832651138306, 17.957061290740967, 17.914858102798462, 17.938743829727173, 17.979614734649658, 17.979593515396118, 17.939749002456665, 17.937862634658813, 17.983174085617065, 17.956772565841675, 17.987531900405884, 18.03515076637268, 17.927293062210083, 17.971958875656128]\n",
        "cpu_accuracy_CNN = 0.9681\n"
      ],
      "execution_count": 33,
      "outputs": []
    },
    {
      "cell_type": "markdown",
      "metadata": {
        "id": "rCnXpfgpLwtd"
      },
      "source": [
        "Uaktywnij wsparcie GPU dla obliczeń i uruchom ponownie proces uczenia sieci neuronowej na bazie MNIST i uzupełnij fragment kodu poniżej.\n",
        "\n",
        "W przypadku środowiska Anaconda zamknij środowisko *tensorflow\\_env* i uruchom środowisko *tensorflow\\_gpuenv*. W przypadku Google Colab zmień ustawienia środowiska uruchomieniowego.\n",
        "\n"
      ]
    },
    {
      "cell_type": "code",
      "metadata": {
        "id": "r19aSv6jLwte"
      },
      "source": [
        "gpu_epoch_time_MLP = [5.322610139846802, 2.260852098464966, 2.2532832622528076, 2.2290022373199463, 2.2237982749938965, 2.2207109928131104, 2.2116103172302246, 2.2236828804016113, 2.2317936420440674, 2.1980156898498535, 2.2284228801727295, 2.2261788845062256, 2.2246062755584717, 2.2418785095214844, 2.237482786178589, 2.234675884246826]\n",
        "gpu_accuracy_MLP = 0.9937\n",
        "\n",
        "gpu_epoch_time_CNN = [3.7590761184692383, 2.94075608253479, 2.9472908973693848, 2.93229603767395, 2.920799970626831, 2.941141366958618, 2.946126937866211, 2.980356454849243, 2.942654848098755, 2.91345477104187, 2.9224255084991455, 2.9661388397216797, 2.9205188751220703, 2.950572967529297, 2.9942209720611572, 2.917630910873413]\n",
        "gpu_accuracy_CNN = 0.9961"
      ],
      "execution_count": 30,
      "outputs": []
    },
    {
      "cell_type": "markdown",
      "metadata": {
        "id": "FgGmLKKDLwtj"
      },
      "source": [
        "Zwizualizuj i przeanalizuj czas uczenia sieci neuronowej z CPU i GPU."
      ]
    },
    {
      "cell_type": "code",
      "metadata": {
        "id": "H8AOGoRtLwtj",
        "colab": {
          "base_uri": "https://localhost:8080/",
          "height": 428
        },
        "outputId": "a7ea26d0-2357-46e5-e32e-1ff7792eae11"
      },
      "source": [
        "#TODO przedstaw czas obliczeń gpu_epoch_time, cpu_epoch_time na wykresie pudełkowym\n",
        "\n",
        "plt.boxplot([cpu_epoch_time_MLP,cpu_epoch_time_CNN, gpu_epoch_time_MLP,gpu_epoch_time_CNN], labels=['CPU MLP', 'CPU CNN', 'GPU MLP', 'GPU CNN'])\n",
        "plt.show()"
      ],
      "execution_count": 36,
      "outputs": [
        {
          "output_type": "display_data",
          "data": {
            "image/png": "[encoded data removed]",
            "text/plain": [
              "<Figure size 504x504 with 1 Axes>"
            ]
          },
          "metadata": {
            "tags": [],
            "needs_background": "light"
          }
        }
      ]
    },
    {
      "cell_type": "markdown",
      "metadata": {
        "id": "t23eG5H2PXiu"
      },
      "source": [
        "**Wnioski**\n",
        "\n",
        "*#TODO Przeanalizuj różnicę pomiędzy czasem obliczeń dla CPU i GPU oraz osiągniętą jakością sieci neuronowej.* \n",
        "\n",
        "Czas obliczeń dla GPU jest wyraźnie krótszy niż dla CPU. W przypadku CNN zmniejszył się z kilkunastu sekund na około trzy sekundy w każdej epoce. Dla MLP spadek czasu uczenia w każdej epoce jest nieco mniejszy, z około sześciu sekund na około dwie. Jakość sieci neuronowej CNN i MLP również jest lepsza przy użyciu GPU.\n",
        "\n",
        "\n",
        "*#TODO W przypadku korzystania z własnej karty GPU podaj specyfikację techniczą komputera i karty graficznej.* \n",
        "\n",
        "Wykorzystane zostało środowisko Google Colab\n",
        "\n"
      ]
    }
  ]
}